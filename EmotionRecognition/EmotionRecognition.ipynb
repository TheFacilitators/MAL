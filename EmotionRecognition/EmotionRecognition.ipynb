{
 "cells": [
  {
   "cell_type": "markdown",
   "id": "4e731acc",
   "metadata": {},
   "source": [
    "## Emotion recognition"
   ]
  },
  {
   "cell_type": "markdown",
   "id": "44b7de29",
   "metadata": {},
   "source": [
    "Building emotion recognition model based on CREMA-D dataset and providing our own recordings to test its ability to generalise. "
   ]
  },
  {
   "cell_type": "code",
   "execution_count": 18,
   "id": "a7fbc2d8",
   "metadata": {},
   "outputs": [],
   "source": [
    "import os\n",
    "import librosa\n",
    "import numpy as np\n",
    "import pandas as pd\n",
    "import matplotlib.pyplot as plt\n",
    "from sklearn.model_selection import train_test_split\n",
    "from sklearn.preprocessing import LabelEncoder\n",
    "from tensorflow.keras import models, layers, optimizers\n",
    "from tensorflow.keras.callbacks import ModelCheckpoint\n",
    "from sklearn.metrics import accuracy_score, classification_report, confusion_matrix\n",
    "from tensorflow import keras\n",
    "from sklearn.model_selection import train_test_split\n",
    "from tensorflow.keras import layers\n"
   ]
  },
  {
   "cell_type": "markdown",
   "id": "73c10020",
   "metadata": {},
   "source": [
    "### Convert wav to npy"
   ]
  },
  {
   "cell_type": "code",
   "execution_count": 19,
   "id": "439d50b3",
   "metadata": {},
   "outputs": [],
   "source": [
    "def wav_to_npy(input_wav_path, output_npy_path):\n",
    "    # Create the output directory if it doesn't exist\n",
    "    os.makedirs(os.path.dirname(output_npy_path), exist_ok=True)\n",
    "\n",
    "    # Load the audio file\n",
    "    audio_data, _ = librosa.load(input_wav_path, sr=None)\n",
    "\n",
    "    # Save the audio data as a NumPy array\n",
    "    np.save(output_npy_path, audio_data)\n",
    "\n",
    "# Example usage\n",
    "input_wav_directory = 'AudioWAV/'\n",
    "output_npy_directory = 'AudioNPY/'\n",
    "\n",
    "# Iterate over all WAV files in the input directory\n",
    "for filename in os.listdir(input_wav_directory):\n",
    "    if filename.endswith(\".wav\"):\n",
    "        input_wav_path = os.path.join(input_wav_directory, filename)\n",
    "        output_npy_path = os.path.join(output_npy_directory, os.path.splitext(filename)[0] + '.npy')\n",
    "        wav_to_npy(input_wav_path, output_npy_path)"
   ]
  },
  {
   "cell_type": "code",
   "execution_count": 20,
   "id": "5df3ec03",
   "metadata": {},
   "outputs": [],
   "source": [
    "def load_and_process_data(dataset_path):\n",
    "    # Loading the CREMA-D dataset\n",
    "    crema_directory_list = os.listdir(dataset_path)\n",
    "\n",
    "    file_emotion = []\n",
    "    file_path = []\n",
    "\n",
    "    for file in crema_directory_list:\n",
    "        # storing file paths\n",
    "        file_path.append(dataset_path + file)\n",
    "        # storing file emotions\n",
    "        part = file.split('_')\n",
    "        if part[2] == 'SAD':\n",
    "            file_emotion.append('sad')\n",
    "        elif part[2] == 'ANG':\n",
    "            file_emotion.append('angry')\n",
    "        elif part[2] == 'DIS':\n",
    "            file_emotion.append('disgust')\n",
    "        elif part[2] == 'FEA':\n",
    "            file_emotion.append('fear')\n",
    "        elif part[2] == 'HAP':\n",
    "            file_emotion.append('happy')\n",
    "        elif part[2] == 'NEU':\n",
    "            file_emotion.append('neutral')\n",
    "        else:\n",
    "            file_emotion.append('Unknown')\n",
    "\n",
    "    # Create a DataFrame for emotion of files\n",
    "    emotion_df = pd.DataFrame(file_emotion, columns=['Emotions'])\n",
    "\n",
    "    # Create a DataFrame for the path of files\n",
    "    path_df = pd.DataFrame(file_path, columns=['Path'])\n",
    "\n",
    "    return path_df, emotion_df\n",
    "\n",
    "\n",
    "# Set the path to the CREMA-D dataset\n",
    "crema_path = \"AudioWAV/\"\n",
    "\n",
    "# Load and process data\n",
    "recordings_df, labels = load_and_process_data(crema_path)\n",
    "\n"
   ]
  },
  {
   "cell_type": "markdown",
   "metadata": {},
   "source": [
    "### Loading .npy to dataframe"
   ]
  },
  {
   "cell_type": "code",
   "execution_count": 21,
   "metadata": {},
   "outputs": [
    {
     "name": "stdout",
     "output_type": "stream",
     "text": [
      "                                             Numpy_Data\n",
      "0     [0.0, 0.0, 0.0, 0.0, 0.0, 0.0, 0.0, 0.0, 0.0, ...\n",
      "1     [0.00091552734, 0.0013122559, 0.0015869141, 0....\n",
      "2     [0.008026123, 0.008453369, 0.008361816, 0.0074...\n",
      "3     [-0.004333496, -0.0032653809, -0.0030212402, -...\n",
      "4     [0.0024108887, 0.001373291, 0.0013122559, 0.00...\n",
      "...                                                 ...\n",
      "7437  [0.00091552734, 0.0014038086, 0.001373291, 0.0...\n",
      "7438  [-0.006958008, -0.0067749023, -0.0072021484, -...\n",
      "7439  [-0.0022583008, -0.0018615723, -0.002319336, -...\n",
      "7440  [-0.0016174316, -0.0010681152, -0.00076293945,...\n",
      "7441  [0.0008544922, 0.0005187988, 0.0010986328, 0.0...\n",
      "\n",
      "[7442 rows x 1 columns]\n"
     ]
    }
   ],
   "source": [
    "\n",
    "# Initialize empty lists to store .npy file data\n",
    "npy_data_list = []\n",
    "\n",
    "# Iterate through the directory to read each .npy file\n",
    "for root, dirs, files in os.walk(output_npy_directory):\n",
    "    for file in files:\n",
    "        if file.endswith('.npy'):\n",
    "            file_path = os.path.join(root, file)\n",
    "            # Load .npy file\n",
    "            npy_array = np.load(file_path)\n",
    "            # Append data to the list\n",
    "            npy_data_list.append(npy_array)\n",
    "\n",
    "# Create a DataFrame with the .npy file data\n",
    "data = {'Numpy_Data': npy_data_list}\n",
    "npy_df = pd.DataFrame(data)\n",
    "\n",
    "# Display the DataFrame\n",
    "print(npy_df)"
   ]
  },
  {
   "cell_type": "code",
   "execution_count": 23,
   "id": "ffbc0865",
   "metadata": {},
   "outputs": [
    {
     "data": {
      "text/plain": [
       "(7442, 1)"
      ]
     },
     "metadata": {},
     "output_type": "display_data"
    },
    {
     "data": {
      "text/plain": [
       "(7442, 1)"
      ]
     },
     "metadata": {},
     "output_type": "display_data"
    },
    {
     "ename": "ValueError",
     "evalue": "Failed to convert a NumPy array to a Tensor (Unsupported object type numpy.ndarray).",
     "output_type": "error",
     "traceback": [
      "\u001b[1;31m---------------------------------------------------------------------------\u001b[0m",
      "\u001b[1;31mValueError\u001b[0m                                Traceback (most recent call last)",
      "\u001b[1;32mc:\\Users\\Lukas\\Documents\\GitHub\\MAL\\EmotionRecognition\\EmotionRecognition.ipynb Cell 9\u001b[0m line \u001b[0;36m2\n\u001b[0;32m     <a href='vscode-notebook-cell:/c%3A/Users/Lukas/Documents/GitHub/MAL/EmotionRecognition/EmotionRecognition.ipynb#X12sZmlsZQ%3D%3D?line=21'>22</a>\u001b[0m \u001b[39m# Compile the model\u001b[39;00m\n\u001b[0;32m     <a href='vscode-notebook-cell:/c%3A/Users/Lukas/Documents/GitHub/MAL/EmotionRecognition/EmotionRecognition.ipynb#X12sZmlsZQ%3D%3D?line=22'>23</a>\u001b[0m model\u001b[39m.\u001b[39mcompile(optimizer\u001b[39m=\u001b[39m\u001b[39m'\u001b[39m\u001b[39madam\u001b[39m\u001b[39m'\u001b[39m,\n\u001b[0;32m     <a href='vscode-notebook-cell:/c%3A/Users/Lukas/Documents/GitHub/MAL/EmotionRecognition/EmotionRecognition.ipynb#X12sZmlsZQ%3D%3D?line=23'>24</a>\u001b[0m               loss\u001b[39m=\u001b[39m\u001b[39m'\u001b[39m\u001b[39msparse_categorical_crossentropy\u001b[39m\u001b[39m'\u001b[39m,\n\u001b[0;32m     <a href='vscode-notebook-cell:/c%3A/Users/Lukas/Documents/GitHub/MAL/EmotionRecognition/EmotionRecognition.ipynb#X12sZmlsZQ%3D%3D?line=24'>25</a>\u001b[0m               metrics\u001b[39m=\u001b[39m[\u001b[39m'\u001b[39m\u001b[39maccuracy\u001b[39m\u001b[39m'\u001b[39m])\n\u001b[1;32m---> <a href='vscode-notebook-cell:/c%3A/Users/Lukas/Documents/GitHub/MAL/EmotionRecognition/EmotionRecognition.ipynb#X12sZmlsZQ%3D%3D?line=26'>27</a>\u001b[0m model\u001b[39m.\u001b[39;49mfit(train_recordings, test_recordings, validation_data\u001b[39m=\u001b[39;49m(train_labels, test_labels), epochs\u001b[39m=\u001b[39;49m\u001b[39m5\u001b[39;49m, batch_size\u001b[39m=\u001b[39;49m\u001b[39m32\u001b[39;49m)\n",
      "File \u001b[1;32mc:\\Users\\Lukas\\AppData\\Local\\Programs\\Python\\Python311\\Lib\\site-packages\\keras\\src\\utils\\traceback_utils.py:70\u001b[0m, in \u001b[0;36mfilter_traceback.<locals>.error_handler\u001b[1;34m(*args, **kwargs)\u001b[0m\n\u001b[0;32m     67\u001b[0m     filtered_tb \u001b[39m=\u001b[39m _process_traceback_frames(e\u001b[39m.\u001b[39m__traceback__)\n\u001b[0;32m     68\u001b[0m     \u001b[39m# To get the full stack trace, call:\u001b[39;00m\n\u001b[0;32m     69\u001b[0m     \u001b[39m# `tf.debugging.disable_traceback_filtering()`\u001b[39;00m\n\u001b[1;32m---> 70\u001b[0m     \u001b[39mraise\u001b[39;00m e\u001b[39m.\u001b[39mwith_traceback(filtered_tb) \u001b[39mfrom\u001b[39;00m \u001b[39mNone\u001b[39;00m\n\u001b[0;32m     71\u001b[0m \u001b[39mfinally\u001b[39;00m:\n\u001b[0;32m     72\u001b[0m     \u001b[39mdel\u001b[39;00m filtered_tb\n",
      "File \u001b[1;32mc:\\Users\\Lukas\\AppData\\Local\\Programs\\Python\\Python311\\Lib\\site-packages\\tensorflow\\python\\framework\\constant_op.py:102\u001b[0m, in \u001b[0;36mconvert_to_eager_tensor\u001b[1;34m(value, ctx, dtype)\u001b[0m\n\u001b[0;32m    100\u001b[0m     dtype \u001b[39m=\u001b[39m dtypes\u001b[39m.\u001b[39mas_dtype(dtype)\u001b[39m.\u001b[39mas_datatype_enum\n\u001b[0;32m    101\u001b[0m ctx\u001b[39m.\u001b[39mensure_initialized()\n\u001b[1;32m--> 102\u001b[0m \u001b[39mreturn\u001b[39;00m ops\u001b[39m.\u001b[39;49mEagerTensor(value, ctx\u001b[39m.\u001b[39;49mdevice_name, dtype)\n",
      "\u001b[1;31mValueError\u001b[0m: Failed to convert a NumPy array to a Tensor (Unsupported object type numpy.ndarray)."
     ]
    }
   ],
   "source": [
    "display(npy_df.shape)\n",
    "display(labels.shape)\n",
    "\n",
    "train_recordings, train_labels, test_recordings, test_labels = train_test_split(npy_df, labels, test_size=0.2, random_state=50)\n",
    "\n",
    "# Define and compile the CNN model\n",
    "model = keras.Sequential()\n",
    "\n",
    "# Convolutional layers\n",
    "model.add(layers.Conv2D(32, (3, 3), activation='relu', input_shape=(62, 65, 1)))\n",
    "model.add(layers.MaxPooling2D((2, 2)))\n",
    "model.add(layers.Conv2D(64, (3, 3), activation='relu'))\n",
    "model.add(layers.MaxPooling2D((2, 2)))\n",
    "\n",
    "# Flatten the output for the fully connected layers\n",
    "model.add(layers.Flatten())\n",
    "\n",
    "# Dense layers\n",
    "model.add(layers.Dense(64, activation='relu'))\n",
    "model.add(layers.Dense(10, activation='softmax'))  # 10 is an example, adjust for your task\n",
    "\n",
    "# Compile the model\n",
    "model.compile(optimizer='adam',\n",
    "              loss='sparse_categorical_crossentropy',\n",
    "              metrics=['accuracy'])\n",
    "\n",
    "model.fit(train_recordings, test_recordings, validation_data=(train_labels, test_labels), epochs=5, batch_size=32)"
   ]
  }
 ],
 "metadata": {
  "kernelspec": {
   "display_name": "Python 3 (ipykernel)",
   "language": "python",
   "name": "python3"
  },
  "language_info": {
   "codemirror_mode": {
    "name": "ipython",
    "version": 3
   },
   "file_extension": ".py",
   "mimetype": "text/x-python",
   "name": "python",
   "nbconvert_exporter": "python",
   "pygments_lexer": "ipython3",
   "version": "3.11.4"
  }
 },
 "nbformat": 4,
 "nbformat_minor": 5
}
