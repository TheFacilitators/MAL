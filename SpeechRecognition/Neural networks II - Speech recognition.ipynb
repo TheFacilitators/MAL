{
 "cells": [
  {
   "cell_type": "markdown",
   "id": "4e731acc",
   "metadata": {},
   "source": [
    "## Speech recognition\n",
    "\n",
    "__You should be able to do this exercise after Lecture 9.__"
   ]
  },
  {
   "cell_type": "markdown",
   "id": "3edffe2f",
   "metadata": {},
   "source": [
    "In this exercise, we will work with the <a href=\"https://arxiv.org/pdf/1804.03209.pdf\">Google Speech Command Dataset</a>, which can be downloaded from <a href=\"http://download.tensorflow.org/data/speech_commands_v0.02.tar.gz\">here</a> (note: you do not need to download the full dataset, but it will allow you to play around with the raw audiofiles). This dataset contains 105,829 one-second long audio files with utterances of 35 common words.\n",
    "\n",
    "We will use a subset of this dataset as indicated in the table below.\n",
    "\n",
    "| Word | How many? | Class # |\n",
    "| :-: | :-: | :-: |\n",
    "| Yes | 4,044 | 3 |\n",
    "| No | 3,941 | 1 |\n",
    "| Stop | 3,872 | 2 |\n",
    "| Go | 3,880 | 0 |\n",
    "\n",
    "The data is given in the files `XSound.npy` and `YSound.npy`, both of which can be imported using `numpy.load`. `XSound.npy` contains spectrograms (_e.g._, matrices with a time-axis and a frequency-axis of size 62 (time) x 65 (frequency)). `YSound.npy` contains the class number, as indicated in the table above."
   ]
  },
  {
   "cell_type": "markdown",
   "id": "18752ccd",
   "metadata": {},
   "source": [
    "__(a)__ Train a convolutional neural network on the data. Find a good set of hyperparameters for the model. Do you think a convolutional neural network is suitable for this kind of problem? Why/why not?"
   ]
  },
  {
   "cell_type": "markdown",
   "id": "44b7de29",
   "metadata": {},
   "source": [
    "__(b)__ Classify instances of the test set using your models. Draw a confusion matrix and comment on the results."
   ]
  },
  {
   "cell_type": "markdown",
   "id": "6df69fef",
   "metadata": {},
   "source": [
    "__(c)__ Choose one other algorithm from the course, and redo (a) and (b) using this algorithm. Supply a brief discussion of why we would expect this algorithm to do better/worse than the CNN."
   ]
  },
  {
   "cell_type": "code",
   "execution_count": null,
   "id": "a7fbc2d8",
   "metadata": {},
   "outputs": [],
   "source": [
    "from tensorflow import keras\n",
    "from sklearn.model_selection import train_test_split\n",
    "from tensorflow.keras import layers\n"
   ]
  },
  {
   "cell_type": "markdown",
   "id": "d7ed3cda",
   "metadata": {},
   "source": [
    "### Part A - training CNN"
   ]
  },
  {
   "cell_type": "code",
   "execution_count": null,
   "id": "ec0d8670",
   "metadata": {},
   "outputs": [],
   "source": [
    "# Load data\n",
    "X = np.load(\"XSound.npy\")\n",
    "Y = np.load(\"YSound.npy\")\n",
    "\n",
    "display(X.shape)\n",
    "display(Y.shape)\n",
    "\n",
    "x_train, x_test, y_train, y_test = train_test_split(X, Y, test_size=0.2, random_state=50)\n",
    "\n",
    "# Define and compile the CNN model\n",
    "model = keras.Sequential()\n",
    "\n",
    "# Convolutional layers\n",
    "model.add(layers.Conv2D(32, (3, 3), activation='relu', input_shape=(62, 65, 1)))\n",
    "model.add(layers.MaxPooling2D((2, 2)))\n",
    "model.add(layers.Conv2D(64, (3, 3), activation='relu'))\n",
    "model.add(layers.MaxPooling2D((2, 2)))\n",
    "\n",
    "# Flatten the output for the fully connected layers\n",
    "model.add(layers.Flatten())\n",
    "\n",
    "# Dense layers\n",
    "model.add(layers.Dense(64, activation='relu'))\n",
    "model.add(layers.Dense(10, activation='softmax'))  # 10 is an example, adjust for your task\n",
    "\n",
    "# Compile the model\n",
    "model.compile(optimizer='adam',\n",
    "              loss='sparse_categorical_crossentropy',\n",
    "              metrics=['accuracy'])\n",
    "\n",
    "model.fit(x_train, y_train, validation_data=(x_test, y_test), epochs=5, batch_size=32)\n",
    "\n",
    "# I would expect CNN to perform fairly well as it is translation invariant meaning that the same frequency pattern occurring at different times of the 1 second recording\n",
    "# should yield same result. And the shorter the word is, the more relevant it should be, as it has more temporal positions within the 1 second time frame where it could be located"
   ]
  },
  {
   "cell_type": "markdown",
   "id": "6e8f7cd3",
   "metadata": {},
   "source": [
    "### Part B - evaluating CNN"
   ]
  },
  {
   "cell_type": "code",
   "execution_count": null,
   "id": "f6108473",
   "metadata": {},
   "outputs": [],
   "source": [
    "# Confusion matrix funcion\n",
    "\n",
    "def PlotConfusionMatrix(y_pred, y_test):\n",
    "    # Calculate the confusion matrix\n",
    "    cm = confusion_matrix(y_test, y_pred)\n",
    "\n",
    "    # Display the confusion matrix using ConfusionMatrixDisplay\n",
    "    labels = ['yes', 'no', 'stop', 'go']  # Replace with your class labels\n",
    "    disp = ConfusionMatrixDisplay(confusion_matrix=cm, display_labels=labels)\n",
    "\n",
    "    # Plot the confusion matrix\n",
    "    disp.plot(cmap=plt.cm.Blues)\n",
    "    plt.title(\"Confusion Matrix\")\n",
    "    plt.show()"
   ]
  },
  {
   "cell_type": "code",
   "execution_count": null,
   "id": "96eb342e",
   "metadata": {},
   "outputs": [],
   "source": [
    "import numpy as np\n",
    "import matplotlib.pyplot as plt\n",
    "from sklearn.metrics import confusion_matrix, ConfusionMatrixDisplay\n",
    "\n",
    "# Evaluate the model on the test data\n",
    "test_loss, test_accuracy = model.evaluate(x_test, y_test)\n",
    "\n",
    "# Print the test accuracy\n",
    "print(\"Test accuracy:\", test_accuracy)\n",
    "\n",
    "# You can also print the test loss if needed\n",
    "print(\"Test loss:\", test_loss)\n",
    "\n",
    "y_pred = model.predict(x_test)\n",
    "y_pred = np.argmax(y_pred, axis=1)\n",
    "\n",
    "PlotConfusionMatrix(y_pred, y_test)\n",
    "\n",
    "\n",
    "#Overall performance is beyond satisfactory. The model accurately identifies the commands. Interestingly enough, some of the commands are identified incorrectly and it is not the ones I would expect\n",
    "#The one that is misclassified most often is \"no\" and \"yes\" (89 times in the given test set). Even though they are phonetically completely different, semantically they are used in the same context.\n",
    "#So my guess would be that underlying intention is transferred in terms of frequencies and hence the resemblance from the model's point of view."
   ]
  },
  {
   "cell_type": "markdown",
   "id": "8f04dea6",
   "metadata": {},
   "source": [
    "### Part C - different algorithm - Random Forrest"
   ]
  },
  {
   "cell_type": "code",
   "execution_count": null,
   "id": "d5f6a52d",
   "metadata": {},
   "outputs": [],
   "source": [
    "from sklearn.ensemble import RandomForestClassifier\n",
    "\n",
    "# Reshape the data to have a 2D structure\n",
    "x_train = x_train.reshape(x_train.shape[0], -1)  # Reshape to (15737, 62*65)\n",
    "x_test = x_test.reshape(x_test.shape[0], -1)\n",
    "# Create and train a Random Forest classifier\n",
    "clf = RandomForestClassifier(n_estimators=20, random_state=42)\n",
    "clf.fit(x_train, y_train)\n",
    "\n",
    "# Make predictions on the test data\n",
    "y_pred = clf.predict(x_test)\n",
    "\n",
    "# Calculate accuracy\n",
    "accuracy = accuracy_score(y_test, y_pred)\n",
    "print(\"Test accuracy:\", accuracy)\n",
    "\n",
    "\n",
    "PlotConfusionMatrix(y_pred, y_test)\n",
    "\n",
    "# CNN significantly outperforms RFC (by approximately 15 % in accuracy). Most commonly misclassified words in RFC are \"yes\" and \"no\". The cause could be translation variance - RFC is not built to recognize\n",
    "# same pattern in different parts of spectrogram."
   ]
  }
 ],
 "metadata": {
  "kernelspec": {
   "display_name": "Python 3 (ipykernel)",
   "language": "python",
   "name": "python3"
  },
  "language_info": {
   "codemirror_mode": {
    "name": "ipython",
    "version": 3
   },
   "file_extension": ".py",
   "mimetype": "text/x-python",
   "name": "python",
   "nbconvert_exporter": "python",
   "pygments_lexer": "ipython3",
   "version": "3.11.4"
  }
 },
 "nbformat": 4,
 "nbformat_minor": 5
}
