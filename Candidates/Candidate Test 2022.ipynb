{
 "cells": [
  {
   "cell_type": "markdown",
   "id": "278102b3",
   "metadata": {},
   "source": [
    "# Candidate Test 2022 Analysis\n",
    "\n",
    "This exercise focuses on the candidate tests from two television networks: DR and TV2. Data from both tests have been given on a scale of five responses (-2, -1, 0, 1, 2). Consider normalizing the data or performing similar scaling transformations as needed.\n",
    "\n",
    "---\n",
    "\n",
    "There are 6 datasets included in this exercise:\n",
    "\n",
    "- `alldata.xlsx`: Contains responses from both TV stations.\n",
    "- `drdata.xlsx`: Contains responses from DR.\n",
    "- `drq.xlsx`: Contains questions from DR.\n",
    "- `tv2data.xlsx`: Contains responses from TV2.\n",
    "- `tv2q.xlsx`: Contains questions from TV2.\n",
    "- `electeddata.xlsx`: Contains responses from both TV stations for candidates who were elected to the parliament. Note that 9 members are missing; 7 of them didn't take any of the tests. Additionally, some notable figures like Mette F. and Lars Løkke did not participate in any of the tests.\n",
    "\n",
    "---\n",
    "\n",
    "It's entirely up to you how you approach this data, but at a *minimum*, your analysis should include:\n",
    "\n",
    "- PCA or some other dimensionality reduction technique to plot responses in two dimensions, thereby visualizing the \"political landscape\". The colors of the plotted points should match the political party colors (see below).\n",
    "- An analysis/description of which questions are most crucial concerning their placement on the axes.\n",
    "- Average positions of parties concerning each question, preferably with accompanying plots of each (or selected) question.\n",
    "- Age of the candidates grouped by parties.\n",
    "- An overview of the most \"confident\" candidates, i.e., those with the highest proportion of \"strongly agree\" or \"strongly disagree\" responses.\n",
    "- Differences in responses between candidates, both inter-party and intra-party, along with an explanation of which parties have the most internal disagreements.\n",
    "- Classification models to predict candidates' party affiliations. Investigate if there are any candidates who seem to be in the \"wrong\" party based on their political landscape positions. You must use the following three algorithms: **Decision Tree, Random Forrest, and Gradient Boosted Tree**.\n",
    "- A clustering analysis where you attempt various cluster numbers, which would correspond to different parties. Discuss whether there is room for more clusters/parties or if a reduction is needed. Make sure you cover: **K-Means, Hierarchical clustering, and DBSCAN.**\n",
    "- An overview of the political landscape of the elected candidates, highlighting which members agree or disagree the most and which parties or party members have significant disagreements.\n",
    "- Feel free to explore further and remember that preprocessing, methodology, and evaluation metrics are not mentioned explicitly, but are implicitly assumed.\n",
    "\n",
    "---\n",
    "\n",
    "The following parties are represented:\n",
    "\n",
    "| Party letter | Party name | Party name (English) | Political position |\n",
    "| :-: | :-: | :-: | :-: |\n",
    "| A | Socialdemokratiet | Social Democrats | Centre-left |\n",
    "| V | Venstre | Danish Liberal Party | Centre-right |\n",
    "| M | Moderaterne | Moderates | Centre-right |\n",
    "| F | Socialistisk Folkeparti | Socialist People's Party | Left-wing |\n",
    "| Æ | Danmarksdemokraterne | Denmark Democrats | Right-wing |\n",
    "| I | Liberal Alliance | Liberal Alliance | Right-wing |\n",
    "| C | Konservative | Conservative People's Party | Right-wing |\n",
    "| Ø | Enhedslisten | Red-Green Alliance | Far-left |\n",
    "| B | Radikale Venstre | Social Liberal Party | Centre-left |\n",
    "| D | Nye Borgerlige | New Right | Far-right |\n",
    "| Z | Alternativet | The Alternative | Centre-left |\n",
    "| O | Dansk Folkeparti | Danish People's Party | Far-right |\n",
    "| G | Frie Grønne | Free Greens | Centre-left |\n",
    "| K | Kristendemokraterne | Christian Democrats | Centre-right |\n",
    "\n",
    "Below you can see the results and the colors chosen to represent the parties. Use these colors in your analysis above.\n",
    "\n",
    "![Alt text](image-1.png)\n",
    "\n",
    "\n",
    "Others have undertaken similar analyses. You can draw inspiration from the following (use Google tranlsate if your Danish is rusty):\n",
    "\n",
    "- [Analysis of where individual candidates stand relative to each other and their parties](https://v2022.dumdata.dk/)\n",
    "- [Candidate Test 2022 – A deep dive into the data](https://kwedel.github.io/kandidattest2022/)\n",
    "- [The Political Landscape 2019](https://kwedel.github.io/kandidattest2019/)\n",
    "\n"
   ]
  },
  {
   "cell_type": "code",
   "execution_count": null,
   "id": "a9b111da",
   "metadata": {},
   "outputs": [],
   "source": [
    "import pandas as pd\n",
    "import numpy as np\n",
    "import matplotlib.pyplot as plt\n",
    "from wordcloud import WordCloud\n",
    "import folium\n",
    "from sklearn.model_selection import train_test_split\n",
    "from sklearn.preprocessing import LabelEncoder\n",
    "from sklearn.naive_bayes import GaussianNB\n",
    "from sklearn.neighbors import KNeighborsClassifier\n",
    "from sklearn.metrics import accuracy_score, classification_report\n",
    "from sklearn.preprocessing import LabelEncoder\n",
    "from sklearn.preprocessing import StandardScaler\n",
    "from sklearn.ensemble import RandomForestClassifier\n",
    "from sklearn.decomposition import PCA"
   ]
  },
  {
   "cell_type": "code",
   "execution_count": null,
   "id": "d0bd7502",
   "metadata": {},
   "outputs": [],
   "source": [
    "candidates_df = pd.read_excel('alldata.xlsx')\n",
    "\n",
    "display(candidates_df.head(5))\n",
    "display(candidates_df.shape)\n",
    "\n",
    "#Might make sense to do some scaling, not sure. Probably will need to encode the candidate and polytical party names\n",
    "scaler = StandardScaler()"
   ]
  },
  {
   "cell_type": "markdown",
   "id": "59dee232",
   "metadata": {},
   "source": [
    "### Pre-processing"
   ]
  },
  {
   "cell_type": "code",
   "execution_count": null,
   "id": "7d3d47b4",
   "metadata": {},
   "outputs": [],
   "source": [
    "colour_mapping = {\n",
    "    'Socialdemokratiet': '#C82518',  \n",
    "    'Venstre': '#01438E',  \n",
    "    'Moderaterne': '#B48CD2',  \n",
    "    'Socialistisk Folkeparti': '#eb94d1',  \n",
    "    'Danmarksdemokraterne': '#FFA500',  \n",
    "    'Liberal Alliance': '#3FB2BE', \n",
    "    'Det Konservative Folkeparti': '#00583C',  \n",
    "    'Enhedslisten': '#F7660D', \n",
    "    'Radikale Venstre': '#FF00FF',  \n",
    "    'Nye Borgerlige': '#00505B',  \n",
    "    'Alternativet': '#00FF00',  \n",
    "    'Dansk Folkeparti': '#FCD03B',  \n",
    "    'Frie Grønne, Danmarks Nye Venstrefløjsparti': '#d9b99b',  \n",
    "    'Kristendemokraterne': '#53619B',  \n",
    "    'Løsgænger': '#808080'  \n",
    "}\n",
    "\n",
    "colours = candidates_df['parti'].map(colour_mapping)"
   ]
  },
  {
   "cell_type": "markdown",
   "id": "1ad4b42c",
   "metadata": {},
   "source": [
    "### PCA"
   ]
  },
  {
   "cell_type": "code",
   "execution_count": null,
   "id": "a4455e6c",
   "metadata": {},
   "outputs": [],
   "source": [
    "# Numeric only df for PCA\n",
    "X = candidates_df.select_dtypes(include=['number'])\n",
    "display(X.shape)\n",
    "\n",
    "# Perform PCA\n",
    "pca = PCA(n_components=2)\n",
    "reduced_data = pca.fit_transform(X)\n",
    "display(pca.explained_variance_ratio_)\n",
    "\n",
    "# Plot the reduced data\n",
    "plt.figure(figsize=(10, 6))\n",
    "plt.scatter(reduced_data[:, 0], reduced_data[:, 1], c=colours, marker='o', label='Candidates')\n",
    "plt.title('PCA of Candidate Responses')\n",
    "plt.legend()\n",
    "plt.grid()\n",
    "plt.show()"
   ]
  },
  {
   "cell_type": "markdown",
   "metadata": {},
   "source": [
    "### Crucial question analysis"
   ]
  },
  {
   "cell_type": "code",
   "execution_count": null,
   "id": "80c585cc",
   "metadata": {},
   "outputs": [],
   "source": [
    "#Finding out how much original features contribute to the two PCA. Printing out in descending order. Interestingly enough, the first PCA is pretty much solely determined by age\n",
    "\n",
    "# Get the PCA loadings\n",
    "loadings = pca.components_\n",
    "\n",
    "# Calculate the absolute values of loadings for each feature\n",
    "absolute_loadings = np.abs(loadings)\n",
    "\n",
    "# Create a DataFrame to show the absolute loadings\n",
    "loading_df = pd.DataFrame(absolute_loadings, columns=X.columns, index=['PC1', 'PC2'])\n",
    "\n",
    "# Sort the features based on their loadings in PC1\n",
    "sorted_features_pc1 = loading_df.loc['PC1'].sort_values(ascending=False)\n",
    "print(\"Features contributing the most to PC1:\")\n",
    "display(sorted_features_pc1)\n",
    "\n",
    "# Sort the features based on their loadings in PC2\n",
    "sorted_features_pc2 = loading_df.loc['PC2'].sort_values(ascending=False)\n",
    "print(\"\\nFeatures contributing the most to PC2:\")\n",
    "display(sorted_features_pc2)"
   ]
  },
  {
   "cell_type": "markdown",
   "id": "3faf0622",
   "metadata": {},
   "source": [
    "### Average position of parties concerning each question"
   ]
  },
  {
   "cell_type": "code",
   "execution_count": null,
   "id": "da9034db",
   "metadata": {},
   "outputs": [],
   "source": [
    "\n",
    "#Dropping features that are not relevant for assessing the mean for every party in relation to every question\n",
    "cleansed_candidates = candidates_df.copy()\n",
    "cleansed_candidates.drop(\"navn\", axis=1, inplace=True)\n",
    "cleansed_candidates.drop(\"storkreds\", axis=1, inplace=True)\n",
    "cleansed_candidates.drop(\"alder\", axis=1, inplace=True)\n",
    "\n",
    "display(cleansed_candidates.shape)\n",
    "display(candidates_df.shape)\n",
    "\n",
    "grouped_parties = cleansed_candidates.groupby(\"parti\")\n",
    "\n",
    "#Calculate the mean for every feature (question) within every group (party)\n",
    "mean_by_party = grouped_parties.mean()\n",
    "\n",
    "display(mean_by_party)\n",
    "\n",
    "# Plot for mean scores by party for each question. It is hard to see the mean for a specific question, but a general radical or mild tendency of parties can be seen\n",
    "mean_by_party.plot(kind='bar', figsize=(10, 6))\n",
    "plt.title('Mean Scores by Party for Each Question')\n",
    "plt.xlabel('Party')\n",
    "plt.ylabel('Mean Score')\n",
    "plt.legend(title='Question', title_fontsize='12', bbox_to_anchor=(1.05, 1), loc='upper left')\n",
    "plt.show()"
   ]
  }
 ],
 "metadata": {
  "kernelspec": {
   "display_name": "Python 3 (ipykernel)",
   "language": "python",
   "name": "python3"
  },
  "language_info": {
   "codemirror_mode": {
    "name": "ipython",
    "version": 3
   },
   "file_extension": ".py",
   "mimetype": "text/x-python",
   "name": "python",
   "nbconvert_exporter": "python",
   "pygments_lexer": "ipython3",
   "version": "3.11.4"
  }
 },
 "nbformat": 4,
 "nbformat_minor": 5
}
