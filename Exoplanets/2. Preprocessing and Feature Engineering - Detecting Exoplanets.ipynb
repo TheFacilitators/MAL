{
 "cells": [
  {
   "cell_type": "markdown",
   "metadata": {},
   "source": [
    "## 2. Preprocessing and Performance: Detecting ExoPlanets"
   ]
  },
  {
   "cell_type": "markdown",
   "metadata": {},
   "source": [
    "**Objective**: Utilize data from the **K2 Kepler mission** (which concluded in 2018) to develop a machine learning model that assists in classifying celestial bodies and determining their exoplanet status. An exoplanet is defined as \"A planet that orbits a star outside the solar system\".\n",
    "\n",
    "**Background**: The Kepler Mission was strategically devised to survey a segment of the Milky Way galaxy. Its primary goal was to identify Earth-sized or smaller planets situated in or near the habitable zone. This would further help in estimating the fraction of stars in our galaxy that might host such planets (_Nasa.gov, 2018_). The assignment itself is based almost completely on a previous student project from MAL 2022 submitted by Pavel Balan and Alex Vasilianov.\n",
    "\n",
    "**Data Source**: The dataset is provided by the NASA Exoplanet Archive, NASA Exoplanet Science Institute [here](https://exoplanetarchive.ipac.caltech.edu/cgi-bin/TblView/nph-tblView?app=ExoTbls&config=koi). There are several datasets available, all from differet periods, but we will use the __Cumulative KOI Data__ dataset.\n",
    "\n",
    "The cumulative KOI (Kepler Objects of interest) table gathers information from the individual KOI activity tables that describe the current results of different searches of the Kepler light curves. The intent of the cumulative table is to provide the most accurate dispositions and stellar and planetary information for all KOIs in one place. All the information in this table has provenance in other KOI activity tables (_exoplanetarchive.ipac.caltech.edu, 2018_).\n",
    "\n",
    "The data has been locally downloaded and saved as `exoplanet_dataset.csv`.\n",
    "\n",
    "\n",
    "#### Overall Instructions\n",
    "1. Explore the dataset to understand the features and their distributions.\n",
    "2. Preprocess the data, handling any missing values, outliers, or other anomalies.\n",
    "3. Choose appropriate machine learning algorithms for the classification task.\n",
    "4. Train and validate your model, ensuring to avoid overfitting.\n",
    "5. Evaluate the model's performance using relevant metrics.\n",
    "\n",
    "Below some guidelines are given but the assignment is relatively \"free\".\n",
    "\n",
    "Best of luck with your analysis!\n"
   ]
  },
  {
   "cell_type": "markdown",
   "metadata": {},
   "source": [
    "### 1. Explore"
   ]
  },
  {
   "cell_type": "code",
   "execution_count": null,
   "metadata": {},
   "outputs": [],
   "source": [
    "import pandas as pd\n",
    "import numpy as np\n",
    "import matplotlib.pyplot as plt\n",
    "from wordcloud import WordCloud\n",
    "import folium\n",
    "from sklearn.model_selection import train_test_split\n",
    "from sklearn.preprocessing import LabelEncoder\n",
    "from sklearn.naive_bayes import GaussianNB\n",
    "from sklearn.neighbors import KNeighborsClassifier\n",
    "from sklearn.metrics import accuracy_score, classification_report\n",
    "from sklearn.preprocessing import LabelEncoder\n",
    "from sklearn.preprocessing import StandardScaler\n",
    "from sklearn.ensemble import RandomForestClassifier"
   ]
  },
  {
   "cell_type": "code",
   "execution_count": null,
   "metadata": {},
   "outputs": [],
   "source": [
    "# Loading the data (change this if you want other var-names, etc.)\n",
    "import pandas as pd\n",
    "\n",
    "exoplanet_df = pd.read_csv('exoplanet_dataset.csv')\n",
    "\n",
    "print(exoplanet_df.shape, \"- 9564 rows with 49 features\")\n",
    "\n",
    "pd.set_option('display.max_columns', None)\n",
    "exoplanet_df.head()"
   ]
  },
  {
   "cell_type": "markdown",
   "metadata": {},
   "source": [
    "**COLUMN NAME | COLUMN DESCRIPTION [Data measurement unit type]**\n",
    "\n",
    "COLUMN kepid:          KepID <br/>\n",
    "COLUMN kepoi_name:     KOI Name <br/>\n",
    "COLUMN kepler_name:    Kepler Name <br/>\n",
    "COLUMN koi_disposition: Exoplanet Archive Disposition <br/>\n",
    "COLUMN koi_pdisposition: Disposition Using Kepler Data <br/>\n",
    "COLUMN koi_score:      Disposition Score <br/>\n",
    "COLUMN koi_fpflag_nt:  Not Transit-Like False Positive Flag <br/>\n",
    "COLUMN koi_fpflag_ss:  Stellar Eclipse False Positive Flag <br/>\n",
    "COLUMN koi_fpflag_co:  Centroid Offset False Positive Flag <br/>\n",
    "COLUMN koi_fpflag_ec:  Ephemeris Match Indicates Contamination False Positive Flag <br/>\n",
    "COLUMN koi_period:     Orbital Period [days] <br/>\n",
    "COLUMN koi_period_err1: Orbital Period Upper Unc. [days] <br/>\n",
    "COLUMN koi_period_err2: Orbital Period Lower Unc. [days] <br/>\n",
    "COLUMN koi_time0bk:    Transit Epoch [BKJD] <br/>\n",
    "COLUMN koi_time0bk_err1: Transit Epoch Upper Unc. [BKJD] <br/>\n",
    "COLUMN koi_time0bk_err2: Transit Epoch Lower Unc. [BKJD] <br/>\n",
    "COLUMN koi_impact:     Impact Parameter <br/>\n",
    "COLUMN koi_impact_err1: Impact Parameter Upper Unc. <br/>\n",
    "COLUMN koi_impact_err2: Impact Parameter Lower Unc. <br/>\n",
    "COLUMN koi_duration:   Transit Duration [hrs] <br/>\n",
    "COLUMN koi_duration_err1: Transit Duration Upper Unc. [hrs] <br/>\n",
    "COLUMN koi_duration_err2: Transit Duration Lower Unc. [hrs] <br/>\n",
    "COLUMN koi_depth:      Transit Depth [ppm] <br/>\n",
    "COLUMN koi_depth_err1: Transit Depth Upper Unc. [ppm] <br/>\n",
    "COLUMN koi_depth_err2: Transit Depth Lower Unc. [ppm] <br/>\n",
    "COLUMN koi_prad:       Planetary Radius [Earth radii] <br/>\n",
    "COLUMN koi_prad_err1:  Planetary Radius Upper Unc. [Earth radii] <br/>\n",
    "COLUMN koi_prad_err2:  Planetary Radius Lower Unc. [Earth radii] <br/>\n",
    "COLUMN koi_teq:        Equilibrium Temperature [K] <br/>\n",
    "COLUMN koi_teq_err1:   Equilibrium Temperature Upper Unc. [K] <br/>\n",
    "COLUMN koi_teq_err2:   Equilibrium Temperature Lower Unc. [K] <br/>\n",
    "COLUMN koi_insol:      Insolation Flux [Earth flux] <br/>\n",
    "COLUMN koi_insol_err1: Insolation Flux Upper Unc. [Earth flux] <br/>\n",
    "COLUMN koi_insol_err2: Insolation Flux Lower Unc. [Earth flux] <br/>\n",
    "COLUMN koi_model_snr:  Transit Signal-to-Noise <br/>\n",
    "COLUMN koi_tce_plnt_num: TCE Planet Number <br/>\n",
    "COLUMN koi_tce_delivname: TCE Delivery <br/>\n",
    "COLUMN koi_steff:      Stellar Effective Temperature [K] <br/>\n",
    "COLUMN koi_steff_err1: Stellar Effective Temperature Upper Unc. [K] <br/>\n",
    "COLUMN koi_steff_err2: Stellar Effective Temperature Lower Unc. [K] <br/>\n",
    "COLUMN koi_slogg:      Stellar Surface Gravity [log10(cm/s^2)] <br/>\n",
    "COLUMN koi_slogg_err1: Stellar Surface Gravity Lower Unc. [log10(cm/s^2)] <br/>\n",
    "COLUMN koi_slogg_err2: Stellar Surface Gravity Lower Unc. [log10(cm/s^2)] <br/>\n",
    "COLUMN koi_srad:       Stellar Radius [Solar radii] <br/>\n",
    "COLUMN koi_srad_err1:  Stellar Radius Upper Unc. [Solar radii] <br/>\n",
    "COLUMN koi_srad_err2:  Stellar Radius Lower Unc. [Solar radii] <br/>\n",
    "COLUMN ra:             RA [decimal degrees] <br/>\n",
    "COLUMN dec:            Dec [decimal degrees] <br/>\n",
    "COLUMN koi_kepmag:     Kepler-band [mag] <br/>"
   ]
  },
  {
   "cell_type": "code",
   "execution_count": null,
   "metadata": {},
   "outputs": [],
   "source": [
    "# For an easier comprehension, we will rename the columns into their description.\n",
    "\n",
    "exoplanet_df = exoplanet_df.rename(columns={'kepid':'KepID',\n",
    "'kepoi_name':'KOIName',\n",
    "'kepler_name':'KeplerName',\n",
    "'koi_disposition':'ExoplanetArchiveDisposition',\n",
    "'koi_pdisposition':'DispositionUsingKeplerData',\n",
    "'koi_score':'DispositionScore',\n",
    "'koi_fpflag_nt':'NotTransit-LikeFalsePositiveFlag',\n",
    "'koi_fpflag_ss':'koi_fpflag_ss',\n",
    "'koi_fpflag_co':'CentroidOffsetFalsePositiveFlag',\n",
    "'koi_fpflag_ec':'EphemerisMatchIndicatesContaminationFalsePositiveFlag',\n",
    "'koi_period':'OrbitalPeriod, days',\n",
    "'koi_period_err1':'OrbitalPeriodUpperUnc, days',\n",
    "'koi_period_err2':'OrbitalPeriodLowerUnc, days',\n",
    "'koi_time0bk':'TransitEpoch, BKJD',\n",
    "'koi_time0bk_err1':'TransitEpochUpperUnc, BKJD',\n",
    "'koi_time0bk_err2':'TransitEpochLowerUnc, BKJD',\n",
    "'koi_impact':'ImpactParamete',\n",
    "'koi_impact_err1':'ImpactParameterUpperUnc',\n",
    "'koi_impact_err2':'ImpactParameterLowerUnc',\n",
    "'koi_duration':'TransitDuration, hrs',\n",
    "'koi_duration_err1':'TransitDurationUpperUnc, hrs',\n",
    "'koi_duration_err2':'TransitDurationLowerUnc, hrs',\n",
    "'koi_depth':'TransitDepth, ppm',\n",
    "'koi_insol':'InsolationFlux, Earthflux',\n",
    "'koi_insol_err1':'InsolationFluxUpperUnc, Earthflux',\n",
    "'koi_insol_err2':'InsolationFluxLowerUnc, Earthflux',\n",
    "'koi_model_snr':'TransitSignal-to-Noise',\n",
    "'koi_tce_plnt_num':'TCEPlanetNumber',\n",
    "'koi_tce_delivname':'TCEDeliver',\n",
    "'koi_steff':'StellarEffectiveTemperature, K',\n",
    "'koi_steff_err1':'StellarEffectiveTemperatureUpperUnc, K',\n",
    "'koi_steff_err2':'StellarEffectiveTemperatureLowerUnc, K',\n",
    "'koi_depth_err1':'TransitDepthUpperUnc, ppm',\n",
    "'koi_depth_err2':'TransitDepthLowerUnc, ppm',\n",
    "'koi_prad':'PlanetaryRadius, Earthradii',\n",
    "'koi_prad_err1':'PlanetaryRadiusUpperUnc, Earthradii',\n",
    "'koi_prad_err2':'PlanetaryRadiusLowerUnc, Earthradii',\n",
    "'koi_teq':'EquilibriumTemperature, K',\n",
    "'koi_teq_err1':'EquilibriumTemperatureUpperUnc, K',\n",
    "'koi_teq_err2':'EquilibriumTemperatureLowerUnc, K',\n",
    "'koi_slogg':'StellarSurfaceGravity, log10(cm/s^2)',\n",
    "'koi_slogg_err1':'StellarSurfaceGravityUpperUnc, log10(cm/s^2)',\n",
    "'koi_slogg_err2':'StellarSurfaceGravityLowerUnc, log10(cm/s^2)',\n",
    "'koi_srad':'StellarRadius, Solarradii',\n",
    "'koi_srad_err1':'StellarRadiusUpperUnc, Solarradii',\n",
    "'koi_srad_err2':'StellarRadiusLowerUnc, Solarradii',\n",
    "'ra':'RA, decimaldegrees',\n",
    "'dec':'Dec, decimaldegrees',\n",
    "'koi_kepmag':'Kepler-band, mag'\n",
    "})"
   ]
  },
  {
   "cell_type": "markdown",
   "metadata": {},
   "source": [
    "**Updated data type value analysis**"
   ]
  },
  {
   "cell_type": "code",
   "execution_count": null,
   "metadata": {},
   "outputs": [],
   "source": [
    "exoplanet_df.info()\n",
    "display(exoplanet_df[0:10])"
   ]
  },
  {
   "cell_type": "markdown",
   "metadata": {},
   "source": [
    "#### Description of some of the features\n",
    "\n",
    "Given that some of the features might not be as straightforward going by their names, here are some descriptions for some of them, taken from the [Exoplanet Archive](https://exoplanetarchive.ipac.caltech.edu/docs/API_kepcandidate_columns.html)."
   ]
  },
  {
   "cell_type": "markdown",
   "metadata": {},
   "source": [
    "`DispositionScore` - A value between 0 and 1 that indicates the confidence in the KOI disposition. For CANDIDATEs, a higher value indicates more confidence in its disposition, while for FALSE POSITIVEs, a higher value indicates less confidence in that disposition. The value is calculated from a Monte Carlo technique such that the score's value is equivalent to the fraction of iterations where the Robovetter yields a disposition of CANDIDATE.\n",
    "\n",
    "`NotTransit-LikeFlag` A KOI whose light curve is not consistent with that of a transiting planet. This includes, but is not limited to, instrumental artifacts, non-eclipsing variable stars, and spurious (very low SNR) detections.\t\n",
    "\n",
    "`StellarEclipseFlag` A KOI that is observed to have a significant secondary event, transit shape, or out-of-eclipse variability, which indicates that the transit-like event is most likely caused by an eclipsing binary. However, self-luminous, hot Jupiters with a visible secondary eclipse will also have this flag set, but with a disposition of PC.\n",
    "\n",
    "`Centroid Offset Flag` The source of the signal is from a nearby star, as inferred by measuring the centroid location of the image both in and out of transit, or by the strength of the transit signal in the target's outer (halo) pixels as compared to the transit signal from the pixels in the optimal (or core) aperture.\n",
    "\n",
    "`EphemerisMatchIndicatesContaminationFlag` The KOI shares the same period and epoch as another object and is judged to be the result of flux contamination in the aperture or electronic crosstalk.\n",
    "\n",
    "`Upper/LowerUnc` Uncertainties Columns(positive +)(negative -) aka - the error range for the columns. \n",
    "\n",
    "`TransitEpoch`\tThe time corresponding to the center of the first detected transit in Barycentric Julian Day (BJD).\n",
    "\n",
    "`ImpactParameter`\tThe sky-projected distance between the center of the stellar disc and the center of the planet disc at conjunction, normalized by the stellar radius.\n",
    "\n",
    "`TransitDepth` (parts per million)\tThe fraction of stellar flux lost at the minimum of the planetary transit. Transit depths are typically computed from a best-fit model produced by a Mandel-Agol (2002) model fit to a multi-quarter Kepler light curve, assuming a linear orbital ephemeris.\n",
    "\n",
    "`InsolationFlux` [Earth flux]\tInsolation flux is another way to give the equilibrium temperature. It depends on the stellar parameters (specifically the stellar radius and temperature), and on the semi-major axis of the planet. It's given in units relative to those measured for the Earth from the Sun.\n",
    "\n",
    "`Equilibrium Temperature` (Kelvin)\tApproximation for the temperature of the planet. The calculation of equilibrium temperature assumes a) thermodynamic equilibrium between the incident stellar flux and the radiated heat from the planet, b) a Bond albedo (the fraction of total power incident upon the planet scattered back into space) of 0.3, c) the planet and star are blackbodies, and d) the heat is evenly distributed between the day and night sides of the planet.\n",
    "\n",
    "`RA` Right ascension (abbreviated RA; symbol α) is the angular distance of a particular point measured eastward along the celestial equator from the Sun at the March equinox to the (hour circle of the) point in question above the earth.\n",
    "\n",
    "`Dec` declination (abbreviated dec; symbol δ) is one of the two angles that locate a point on the celestial sphere in the equatorial coordinate system, the other being hour angle. "
   ]
  },
  {
   "cell_type": "markdown",
   "metadata": {},
   "source": [
    "#### Target identification and modelling\n",
    "\n",
    "Because this problem uses a supervised approach, we can determine the labels from the dataframe.\n",
    "We have the columns `DispositionUsingKeplerData` and `ExoplanetArchiveDisposition`. The first one holds values of either 'CANDIDATE' or 'FALSE POSITIVE'. The second one - 'CONFRIMED', 'CANDIDATE' or 'FALSE POSITIVE'. We will use `DispositionUsingKeplerData` as our only label, as we will be searching only for candidates. `ExoplanetArchiveDisposition` will still be used for data visualization however."
   ]
  },
  {
   "cell_type": "code",
   "execution_count": null,
   "metadata": {},
   "outputs": [],
   "source": [
    "import seaborn as sns\n",
    "sns.countplot(x = exoplanet_df['DispositionUsingKeplerData'])\n",
    "print(exoplanet_df['DispositionUsingKeplerData'].value_counts())"
   ]
  },
  {
   "cell_type": "code",
   "execution_count": null,
   "metadata": {},
   "outputs": [],
   "source": [
    "sns.countplot(x= exoplanet_df['ExoplanetArchiveDisposition'])\n",
    "print(exoplanet_df['ExoplanetArchiveDisposition'].value_counts())"
   ]
  },
  {
   "cell_type": "markdown",
   "metadata": {},
   "source": [
    "#### Tasks"
   ]
  },
  {
   "cell_type": "markdown",
   "metadata": {},
   "source": [
    "-  Explore missing values by finding the the precentage of missing values for each column - print as a dataframe\n",
    "-  Visualise the missing values of the columns with the 5 most percentage of missing value\n",
    "-  Identify potential outliers of the numeric features. This can be done in many ways but you should probably try to write some kind of script/loop that will iterate through the features and calculate the number of values outside [Q1 - 1.5IQR ; Q3 + 1.5IQR]. Don't remove them just yet but discuss what could be a good approach.\n",
    "-  Determine what to do with potential outlier: keep, replace or remove"
   ]
  },
  {
   "cell_type": "code",
   "execution_count": null,
   "metadata": {},
   "outputs": [],
   "source": [
    "#Counting ratio of missing values for each column\n",
    "null_ratios = (exoplanet_df.isnull().sum() / len(exoplanet_df)).reset_index()\n",
    "null_ratios.columns = ['Column Name', 'Null Ratio']\n",
    "null_ratios = null_ratios.sort_values('Null Ratio', ascending=False)\n",
    "display(null_ratios.head(5))"
   ]
  },
  {
   "cell_type": "markdown",
   "metadata": {},
   "source": [
    "### 2. Feature Engineering\n",
    "\n",
    "#### Tasks\n",
    "\n",
    "-  Based only on the analysis above, you should be able to remove some columns (two of the columns will have 100% missing values). Remove these columns.\n",
    "-  Filter out (i.e. remove) any irrelevant columns (e.g. names, IDs, etc.) - there should be 4\n",
    "-  Remove rows with missing values, NaNs, nulls and/or infinite values - if you want, you may choose to impute instead\n",
    "-  If you you chose to remove or replace outliers do this now. If you chose to keep, move on\n",
    "-  Create a correlation matrix and discuss (use only numeric columns, perhaps make an extra dataset just with numeric values) - drop appropriate columns\n",
    "-  The values of `ExoplanetArchiveDisposition` and `ExoplanetArchiveDisposition` are categorical and if they are to act like labels, you should change them. Change them as follows: 'FALSE POSITIVE' values is assigned a numerical value of `0`, 'CANDIDATE' assigned `1`, and 'CONFIRMED' a `2`. Same assignment in both features. The easiest way is to create two new features, call them `KeplerDispositionStatus` and `ArchiveDispositionStatus`, and then drop the originalæ features. It will look something like this (the last couple of columns in the new dataframe):"
   ]
  },
  {
   "attachments": {
    "image.png": {
     "image/png": "[encoded data removed]"
    }
   },
   "cell_type": "markdown",
   "metadata": {},
   "source": [
    "![image.png](attachment:image.png)"
   ]
  },
  {
   "cell_type": "code",
   "execution_count": null,
   "metadata": {},
   "outputs": [],
   "source": [
    "\n",
    "\n",
    "#Removing two of the features that have 100 % nulls\n",
    "exoplanet_df.drop('EquilibriumTemperatureUpperUnc, K', axis='columns', inplace=True)\n",
    "exoplanet_df.drop('EquilibriumTemperatureLowerUnc, K', axis='columns', inplace=True)\n",
    "\n",
    "#Removing features irrelevent for prediction. Should be 4, but only these 3 seem irrelevant\n",
    "exoplanet_df.drop('KepID', axis='columns', inplace=True)\n",
    "exoplanet_df.drop('KOIName', axis='columns', inplace=True)\n",
    "exoplanet_df.drop('KeplerName', axis='columns', inplace=True)\n",
    "exoplanet_df.drop('DispositionScore', axis='columns', inplace=True)\n",
    "\n",
    "exoplanet_df.info()"
   ]
  },
  {
   "cell_type": "code",
   "execution_count": null,
   "metadata": {},
   "outputs": [],
   "source": [
    "#Removing rows that contain at least one NaN. PErhaps an overkill, but will see how this works\n",
    "\n",
    "exoplanet_df.dropna(inplace=True)\n",
    "exoplanet_df.info()\n",
    "exoplanet_df.shape"
   ]
  },
  {
   "cell_type": "code",
   "execution_count": null,
   "metadata": {},
   "outputs": [],
   "source": [
    "#Create a correlation matrix and discuss (use only numeric columns\n",
    "\n",
    "# Drop non-numeric columns\n",
    "exoplanet_df_numeric = exoplanet_df.select_dtypes(include=['number'])\n",
    "\n",
    "correlation_matrix = exoplanet_df_numeric.corr()\n",
    "\n",
    "correlation_matrix.head()"
   ]
  },
  {
   "cell_type": "code",
   "execution_count": null,
   "metadata": {},
   "outputs": [],
   "source": [
    "#Map Disposition to numeric value\n",
    "\n",
    "numeric_mapping = {'FALSE POSITIVE': 0, 'CANDIDATE': 1, 'CONFIRMED': 2}\n",
    "\n",
    "exoplanet_df['KeplerDispositionStatus'] = exoplanet_df['DispositionUsingKeplerData'].map(numeric_mapping)\n",
    "exoplanet_df['ArchiveDispositionStatus'] = exoplanet_df['ExoplanetArchiveDisposition'].map(numeric_mapping)\n",
    "\n",
    "exoplanet_df[['KeplerDispositionStatus', 'ArchiveDispositionStatus']].head()\n",
    "\n",
    "exoplanet_df.head()"
   ]
  },
  {
   "cell_type": "code",
   "execution_count": null,
   "metadata": {},
   "outputs": [],
   "source": [
    "def percentage_of_zeros(column_name):\n",
    "    zero_count = (exoplanet_df[column_name] == 0).sum()\n",
    "    total_rows = len(exoplanet_df)\n",
    "    return (zero_count / total_rows) * 100\n",
    "\n",
    "columns_with_zeroes = [\n",
    "    \"NotTransit-LikeFalsePositiveFlag\",\n",
    "    \"koi_fpflag_ss\",\n",
    "    \"CentroidOffsetFalsePositiveFlag\",\n",
    "    \"EphemerisMatchIndicatesContaminationFalsePositiveFlag\"\n",
    "]\n",
    "\n",
    "# Calculate and print percentages for each column\n",
    "for column_name in columns_with_zeroes:\n",
    "    percentage = percentage_of_zeros(column_name)\n",
    "    print(f\"Percentage of zeros in {column_name}: {percentage:.2f}%\")\n",
    "\n",
    "exoplanet_df = exoplanet_df.drop(columns=columns_with_zeroes, axis=1)"
   ]
  },
  {
   "cell_type": "code",
   "execution_count": null,
   "metadata": {},
   "outputs": [],
   "source": [
    "#Defining quartiles and identifying outliers. Moving this here as we remove 6 features previously as well as some hard-coded removals, so it would not make sense calculating outliers for those\n",
    "display(exoplanet_df.shape)\n",
    "#Extracting only the numeric features as quartiles for categorical data does not make sense\n",
    "exoplanet_df_numeric = exoplanet_df.select_dtypes(include=['number'])\n",
    "display(exoplanet_df_numeric.shape)\n",
    "\n",
    "# Function to calculate IQR\n",
    "def calculate_iqr(column):\n",
    "    q1 = column.quantile(0.25)\n",
    "    q3 = column.quantile(0.75)\n",
    "    iqr = q3 - q1\n",
    "    return iqr\n",
    "\n",
    "# Calculate IQR for each numeric feature\n",
    "iqr_dataframe = exoplanet_df_numeric.apply(calculate_iqr)\n",
    "\n",
    "# Display the resulting DataFrame with IQR values and feature names\n",
    "display(iqr_dataframe.head(5))\n",
    "\n",
    "# Define a function to identify outliers in a column\n",
    "def identify_outliers(column):\n",
    "    q1 = column.quantile(0.25)\n",
    "    q3 = column.quantile(0.75)\n",
    "    iqr = q3 - q1\n",
    "    lower_bound = q1 - 1.5 * iqr\n",
    "    upper_bound = q3 + 1.5 * iqr\n",
    "    return (column < lower_bound) | (column > upper_bound)\n",
    "\n",
    "# Identify outliers in each numeric feature\n",
    "outlier_counts = exoplanet_df_numeric.apply(identify_outliers)\n",
    "\n",
    "# Count the number of outliers in each feature\n",
    "outlier_counts = outlier_counts.sum()\n",
    "\n",
    "# Display the number of outliers for each feature\n",
    "display(outlier_counts.head(5))\n",
    "\n",
    "#Calculate outlier ratio compared to total amount of samples, rename columns and sort in descending order (features at the top have the most outliers)\n",
    "outliers_ratio = (outlier_counts / len(exoplanet_df_numeric)).reset_index()\n",
    "outliers_ratio.rename(columns={'index': 'Feature', 0: 'Outlier ratio'}, inplace=True)\n",
    "outliers_ratio = outliers_ratio.sort_values('Outlier ratio', ascending=False)\n",
    "display(outliers_ratio)\n",
    "\n"
   ]
  },
  {
   "cell_type": "code",
   "execution_count": null,
   "metadata": {},
   "outputs": [],
   "source": [
    "#Now comes the actual cleanup of outliers. As the outlier ratio declines quite linearly, let's setup a threshold above which the features will be removed\n",
    "display(exoplanet_df.shape)\n",
    "features_to_remove = outliers_ratio[outliers_ratio['Outlier ratio'] > 0.18]['Feature']\n",
    "exoplanet_df.drop(columns=features_to_remove, inplace=True)\n",
    "display(exoplanet_df.shape)"
   ]
  },
  {
   "cell_type": "markdown",
   "metadata": {},
   "source": [
    "#### Tasks continued\n",
    "-  Consider whether some features should be transformed (e.g. using log, square root etc.) and do this if found relevant\n",
    "-  Place `KeplerDispositionStatus` as the target and remove the following from the features: `DispositionScore`, `KeplerDispositionStatus`, `ArchiveDispositionStatus\n",
    "- Consider scaling your (numeric) data\n",
    "- You should now have two datasets, one with cleaned features and one with the target labels (1 for Candidate and 0 otherwise)"
   ]
  },
  {
   "cell_type": "code",
   "execution_count": null,
   "metadata": {},
   "outputs": [],
   "source": [
    "exoplanet_df_categorical = exoplanet_df.select_dtypes(exclude=['number'])\n",
    "\n",
    "# Drop the original categorical columns from the DataFrame if needed\n",
    "exoplanet_df = exoplanet_df.drop(columns=exoplanet_df_categorical.columns)\n",
    "\n",
    "# Use get_dummies to one-hot encode categorical columns\n",
    "#exoplanet_df_encoded = pd.get_dummies(exoplanet_df_categorical)\n",
    "\n",
    "# Concatenate the one-hot encoded DataFrame with the original DataFrame\n",
    "#exoplanet_df = pd.concat([exoplanet_df, exoplanet_df_encoded], axis=1)\n",
    "\n",
    "#scaler = StandardScaler()\n",
    "\n",
    "# Fit and transform the numeric columns\n",
    "#scaled_numeric_columns = scaler.fit_transform(exoplanet_df)\n",
    "\n",
    "# Replace the original numeric columns with the scaled values\n",
    "#exoplanet_df[exoplanet_df.columns] = scaled_numeric_columns\n",
    "\n",
    "# Create the feature DataFrame (X) and target Series (y)\n",
    "X = exoplanet_df.drop(['KeplerDispositionStatus',\n",
    "                       'ArchiveDispositionStatus'],axis=1)\n",
    "y = exoplanet_df['KeplerDispositionStatus']\n",
    "\n",
    "y = (y == 1).astype(int)\n",
    "\n",
    "display(X)"
   ]
  },
  {
   "cell_type": "markdown",
   "metadata": {},
   "source": [
    "### 3+4. Train, Test, Validation, Cross Validation + Models\n",
    "-  Consider which method to use to split the data and do the appropriate splits - if using CV still make a test set\n",
    "-  Use claasification algorithms to train a model - which and how many is up to you"
   ]
  },
  {
   "cell_type": "code",
   "execution_count": null,
   "metadata": {},
   "outputs": [],
   "source": [
    "from sklearn.metrics import accuracy_score, precision_score, recall_score, f1_score, confusion_matrix, roc_curve, auc, precision_recall_curve\n",
    "\n",
    "#Defining all the functions for performance evaluation here so that they can be used in the same cell as training (to not have to create multiple variables for x_train, y_test etc. in reach model type)\n",
    "\n",
    "# Function to calculate accuracy, precision, recall, specificity, and F1-score\n",
    "def calculate_metrics(y_true, y_pred):\n",
    "    accuracy = accuracy_score(y_true, y_pred)\n",
    "    precision = precision_score(y_true, y_pred)\n",
    "    recall = recall_score(y_true, y_pred)\n",
    "    tn, fp, fn, tp = confusion_matrix(y_true, y_pred).ravel()\n",
    "    specificity = tn / (tn + fp)\n",
    "    f1 = f1_score(y_true, y_pred)\n",
    "    return accuracy, precision, recall, specificity, f1\n",
    "\n",
    "# Function to output the confusion matrix\n",
    "def plot_confusion_matrix(y_true, y_pred, labels):\n",
    "    cm = confusion_matrix(y_true, y_pred)\n",
    "    plt.figure(figsize=(8, 6))\n",
    "    plt.imshow(cm, interpolation='nearest', cmap=plt.cm.Blues)\n",
    "    plt.title(\"Confusion Matrix\")\n",
    "    plt.colorbar()\n",
    "    tick_marks = np.arange(len(labels))\n",
    "    plt.xticks(tick_marks, labels, rotation=45)\n",
    "    plt.yticks(tick_marks, labels)\n",
    "    plt.ylabel('True label')\n",
    "    plt.xlabel('Predicted label')\n",
    "    plt.show()\n",
    "\n",
    "# Function to display precision-recall curve and ROC curve\n",
    "def plot_precision_recall_roc(y_true, y_prob):\n",
    "    precision, recall, _ = precision_recall_curve(y_true, y_prob)\n",
    "    fpr, tpr, _ = roc_curve(y_true, y_prob)\n",
    "    \n",
    "    # Precision-Recall Curve\n",
    "    plt.figure(figsize=(12, 4))\n",
    "    plt.subplot(1, 2, 1)\n",
    "    plt.plot(recall, precision, color='darkorange', lw=2)\n",
    "    plt.xlabel('Recall')\n",
    "    plt.ylabel('Precision')\n",
    "    plt.title('Precision-Recall Curve')\n",
    "    \n",
    "    # ROC Curve\n",
    "    plt.subplot(1, 2, 2)\n",
    "    plt.plot(fpr, tpr, color='darkorange', lw=2)\n",
    "    plt.xlabel('False Positive Rate (1 - Specificity)')\n",
    "    plt.ylabel('True Positive Rate (Sensitivity)')\n",
    "    plt.title('ROC Curve')\n",
    "    \n",
    "    plt.tight_layout()\n",
    "    plt.show()"
   ]
  },
  {
   "cell_type": "markdown",
   "metadata": {},
   "source": [
    "### Random Forrest"
   ]
  },
  {
   "cell_type": "code",
   "execution_count": null,
   "metadata": {},
   "outputs": [],
   "source": [
    "# Split the data into training, validation, and test sets\n",
    "X_train, X_temp, y_train, y_temp = train_test_split(X, y, test_size=0.2, random_state=42)\n",
    "X_val, X_test, y_val, y_test = train_test_split(X_temp, y_temp, test_size=0.2, random_state=42)\n",
    "\n",
    "# Initialize and train a Random Forest classifier \n",
    "clf = RandomForestClassifier()\n",
    "clf.fit(X_train, y_train)\n",
    "\n",
    "# Evaluate the model on the validation set\n",
    "y_val_pred = clf.predict(X_val)\n",
    "val_accuracy = accuracy_score(y_val, y_val_pred)\n",
    "print(f\"Validation Accuracy: {val_accuracy:.2f}\")\n",
    "\n",
    "# Evaluate the final model on the test set\n",
    "y_test_pred = clf.predict(X_test)\n",
    "test_accuracy = accuracy_score(y_test, y_test_pred)\n",
    "print(f\"Test Accuracy: {test_accuracy:.2f}\\n\")\n",
    "\n",
    "#Metrics of Random Forest\n",
    "\n",
    "print(\"Metrics for Random Forest:\\n\")\n",
    "\n",
    "accuracy, precision, recall, specificity, f1 = calculate_metrics(y_test, y_test_pred)\n",
    "print(f\"Accuracy: {accuracy:.2f}\")\n",
    "print(f\"Precision: {precision:.2f}\")\n",
    "print(f\"Recall: {recall:.2f}\")\n",
    "print(f\"Specificity: {specificity:.2f}\")\n",
    "print(f\"F1-score: {f1:.2f}\")"
   ]
  },
  {
   "cell_type": "markdown",
   "metadata": {},
   "source": [
    "### Naive Bayes"
   ]
  },
  {
   "cell_type": "code",
   "execution_count": null,
   "metadata": {},
   "outputs": [],
   "source": [
    "# Split the data into training, validation, and test sets\n",
    "X_train, X_temp, y_train, y_temp = train_test_split(X, y, test_size=0.2, random_state=42)\n",
    "X_val, X_test, y_val, y_test = train_test_split(X_temp, y_temp, test_size=0.2, random_state=42)\n",
    "\n",
    "# Initialize and train a Gaussian Naive Bayes classifier\n",
    "nb_classifier = GaussianNB()\n",
    "nb_classifier.fit(X_train, y_train)\n",
    "\n",
    "# Evaluate the Gaussian Naive Bayes classifier on the validation set\n",
    "y_val_pred_nb = nb_classifier.predict(X_val)\n",
    "val_accuracy_nb = accuracy_score(y_val, y_val_pred_nb)\n",
    "print(f\"Gaussian Naive Bayes Validation Accuracy: {val_accuracy_nb:.2f}\")\n",
    "\n",
    "# Evaluate the Gaussian Naive Bayes classifier on the test set\n",
    "y_test_pred_nb = nb_classifier.predict(X_test)\n",
    "test_accuracy_nb = accuracy_score(y_test, y_test_pred_nb)\n",
    "print(f\"Gaussian Naive Bayes Test Accuracy: {test_accuracy_nb:.2f}\\n\")"
   ]
  },
  {
   "cell_type": "markdown",
   "metadata": {},
   "source": [
    "### K-Nearest Neighbour"
   ]
  },
  {
   "cell_type": "code",
   "execution_count": null,
   "metadata": {},
   "outputs": [],
   "source": [
    "# Split the data into training, validation, and test sets\n",
    "X_train, X_temp, y_train, y_temp = train_test_split(X, y, test_size=0.2, random_state=42)\n",
    "X_val, X_test, y_val, y_test = train_test_split(X_temp, y_temp, test_size=0.2, random_state=42)\n",
    "# Initialize and train a K-Nearest Neighbors classifier\n",
    "knn_classifier = KNeighborsClassifier()\n",
    "knn_classifier.fit(X_train, y_train)\n",
    "\n",
    "# Evaluate the K-Nearest Neighbors classifier on the validation set\n",
    "y_val_pred_knn = knn_classifier.predict(X_val.values)\n",
    "val_accuracy_knn = accuracy_score(y_val, y_val_pred_knn)\n",
    "print(f\"K-Nearest Neighbors Validation Accuracy: {val_accuracy_knn:.2f}\")\n",
    "\n",
    "# Evaluate the K-Nearest Neighbors classifier on the test set\n",
    "y_test_pred_knn = knn_classifier.predict(X_test.values)\n",
    "test_accuracy_knn = accuracy_score(y_test, y_test_pred_knn)\n",
    "print(f\"K-Nearest Neighbors Test Accuracy: {test_accuracy_knn:.2f}\")"
   ]
  },
  {
   "cell_type": "markdown",
   "metadata": {},
   "source": [
    "### 5. Evaluate\n",
    "-  Write three functions:\n",
    "     1. One that calculates accuracy, precision, recall, specificity, and f1-score\n",
    "     2. One that outputs the confusion matrix\n",
    "     3. One that diplays the precision-recall curve as well as the ROC-cruve\n",
    "-  Use your newly written functions to evaluate your models using the test data created in (3+4)"
   ]
  }
 ],
 "metadata": {
  "kernelspec": {
   "display_name": "Python 3",
   "language": "python",
   "name": "python3"
  },
  "language_info": {
   "codemirror_mode": {
    "name": "ipython",
    "version": 3
   },
   "file_extension": ".py",
   "mimetype": "text/x-python",
   "name": "python",
   "nbconvert_exporter": "python",
   "pygments_lexer": "ipython3",
   "version": "3.11.4"
  },
  "orig_nbformat": 4
 },
 "nbformat": 4,
 "nbformat_minor": 2
}
